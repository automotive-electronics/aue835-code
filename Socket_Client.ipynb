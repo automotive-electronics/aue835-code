{
 "cells": [
  {
   "cell_type": "markdown",
   "metadata": {},
   "source": [
    "# Socket Client\n",
    "\n",
    "\n",
    "Socket Client Example adopted from: \n",
    "\n",
    "    - <https://pymotw.com/2/socket/binary.html> \n",
    "    - "
   ]
  },
  {
   "cell_type": "code",
   "execution_count": 4,
   "metadata": {
    "ExecuteTime": {
     "end_time": "2016-08-28T21:51:25.791870",
     "start_time": "2016-08-28T21:51:25.789145"
    },
    "collapsed": true,
    "run_control": {
     "frozen": false,
     "read_only": false
    }
   },
   "outputs": [],
   "source": [
    "import socket\n",
    "import sys\n",
    "port = 5000"
   ]
  },
  {
   "cell_type": "markdown",
   "metadata": {},
   "source": [
    "## UDP"
   ]
  },
  {
   "cell_type": "code",
   "execution_count": 1,
   "metadata": {
    "ExecuteTime": {
     "end_time": "2016-08-28T21:35:56.163150",
     "start_time": "2016-08-28T21:35:52.897038"
    },
    "collapsed": false,
    "run_control": {
     "frozen": false,
     "read_only": false
    }
   },
   "outputs": [
    {
     "name": "stdout",
     "output_type": "stream",
     "text": [
      "Enter message to send : Hello World\n"
     ]
    }
   ],
   "source": [
    "# create dgram udp socket\n",
    "try:\n",
    "    s = socket.socket(socket.AF_INET, socket.SOCK_DGRAM)\n",
    "except socket.error:\n",
    "    print 'Failed to create socket'\n",
    "    sys.exit()\n",
    " \n",
    "#\n",
    "destination_host='localhost'\n",
    "port = 5000\n",
    " \n",
    "msg = raw_input('Enter message to send : ')\n",
    "     \n",
    "try :\n",
    "    s.sendto(msg, (destination_host, port))\n",
    "except socket.error, msg:\n",
    "    print 'Error Code : ' + str(msg[0]) + ' Message ' + msg[1]\n",
    "    sys.exit()"
   ]
  },
  {
   "cell_type": "markdown",
   "metadata": {
    "collapsed": true,
    "run_control": {
     "frozen": false,
     "read_only": false
    }
   },
   "source": [
    "## TCP"
   ]
  },
  {
   "cell_type": "code",
   "execution_count": 24,
   "metadata": {
    "ExecuteTime": {
     "end_time": "2016-08-28T22:09:36.052453",
     "start_time": "2016-08-28T22:09:36.047279"
    },
    "collapsed": false,
    "run_control": {
     "frozen": false,
     "read_only": false
    }
   },
   "outputs": [
    {
     "name": "stdout",
     "output_type": "stream",
     "text": [
      "connecting to localhost port 5000\n"
     ]
    }
   ],
   "source": [
    "# Create a TCP/IP socket\n",
    "sock = socket.socket(socket.AF_INET, socket.SOCK_STREAM)\n",
    "\n",
    "# Connect the socket to the port where the server is listening\n",
    "server_address = ('localhost', port)\n",
    "print 'connecting to %s port %s' % server_address\n",
    "sock.connect(server_address)"
   ]
  },
  {
   "cell_type": "code",
   "execution_count": 25,
   "metadata": {
    "ExecuteTime": {
     "end_time": "2016-08-28T22:09:40.984918",
     "start_time": "2016-08-28T22:09:36.605564"
    },
    "collapsed": false,
    "run_control": {
     "frozen": false,
     "read_only": false
    }
   },
   "outputs": [
    {
     "name": "stdout",
     "output_type": "stream",
     "text": [
      "Enter message to send : Hello AuE!\n",
      "closing socket\n"
     ]
    }
   ],
   "source": [
    "try:\n",
    "    # Send data\n",
    "    msg = raw_input('Enter message to send : ')\n",
    "    sock.sendall(msg)\n",
    "\n",
    "finally:\n",
    "    print 'closing socket'\n",
    "    sock.close()"
   ]
  },
  {
   "cell_type": "code",
   "execution_count": null,
   "metadata": {
    "collapsed": true,
    "run_control": {
     "frozen": false,
     "read_only": false
    }
   },
   "outputs": [],
   "source": []
  }
 ],
 "metadata": {
  "kernelspec": {
   "display_name": "Python 2",
   "language": "python",
   "name": "python2"
  },
  "language_info": {
   "codemirror_mode": {
    "name": "ipython",
    "version": 2
   },
   "file_extension": ".py",
   "mimetype": "text/x-python",
   "name": "python",
   "nbconvert_exporter": "python",
   "pygments_lexer": "ipython2",
   "version": "2.7.11"
  },
  "toc": {
   "toc_cell": false,
   "toc_number_sections": true,
   "toc_threshold": 6,
   "toc_window_display": false
  }
 },
 "nbformat": 4,
 "nbformat_minor": 0
}
